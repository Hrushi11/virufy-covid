{
  "nbformat": 4,
  "nbformat_minor": 0,
  "metadata": {
    "colab": {
      "name": "virufy-cdf-quickstart-coughvid-github.ipynb",
      "provenance": [],
      "collapsed_sections": []
    },
    "kernelspec": {
      "display_name": "Python 3",
      "name": "python3"
    },
    "language_info": {
      "name": "python"
    }
  },
  "cells": [
    {
      "cell_type": "code",
      "metadata": {
        "colab": {
          "base_uri": "https://localhost:8080/"
        },
        "id": "XD0h8awkxYmp",
        "outputId": "1349c8f5-f4e8-4690-bcd3-5889e8174512"
      },
      "source": [
        "# Download coughvid data in CDF format\n",
        "# Run once \n",
        "!git clone \"https://github.com/virufy/virufy-cdf-coughvid.git\"\n",
        "%cd virufy-cdf-coughvid"
      ],
      "execution_count": 1,
      "outputs": [
        {
          "output_type": "stream",
          "text": [
            "Cloning into 'virufy-cdf-coughvid'...\n",
            "remote: Enumerating objects: 2, done.\u001b[K\n",
            "remote: Counting objects: 100% (2/2), done.\u001b[K\n",
            "remote: Compressing objects: 100% (2/2), done.\u001b[K\n",
            "remote: Total 16070 (delta 0), reused 0 (delta 0), pack-reused 16068\u001b[K\n",
            "Receiving objects: 100% (16070/16070), 720.17 MiB | 36.07 MiB/s, done.\n",
            "Resolving deltas: 100% (13/13), done.\n",
            "Checking out files: 100% (16061/16061), done.\n",
            "/content/virufy-cdf-coughvid\n"
          ],
          "name": "stdout"
        }
      ]
    },
    {
      "cell_type": "code",
      "metadata": {
        "colab": {
          "base_uri": "https://localhost:8080/",
          "height": 499
        },
        "id": "VDSOlGx_vrVN",
        "outputId": "d4496c43-5972-4988-a9b9-bddb66303656"
      },
      "source": [
        "from sklearn.model_selection import train_test_split\n",
        "import pandas as pd\n",
        "import os\n",
        "\n",
        "# Filtering cough_detected to > .7 is advisable\n",
        "coughvid = pd.read_csv(\"/content/virufy-cdf-coughvid/virufy-cdf-coughvid.csv\")\n",
        "msk = (coughvid.loc[:,'cough_detected'] > 0.7)\n",
        "coughvid = coughvid.loc[msk,:]\n",
        "coughvid.head()"
      ],
      "execution_count": 2,
      "outputs": [
        {
          "output_type": "execute_result",
          "data": {
            "text/html": [
              "<div>\n",
              "<style scoped>\n",
              "    .dataframe tbody tr th:only-of-type {\n",
              "        vertical-align: middle;\n",
              "    }\n",
              "\n",
              "    .dataframe tbody tr th {\n",
              "        vertical-align: top;\n",
              "    }\n",
              "\n",
              "    .dataframe thead th {\n",
              "        text-align: right;\n",
              "    }\n",
              "</style>\n",
              "<table border=\"1\" class=\"dataframe\">\n",
              "  <thead>\n",
              "    <tr style=\"text-align: right;\">\n",
              "      <th></th>\n",
              "      <th>Unnamed: 0</th>\n",
              "      <th>source</th>\n",
              "      <th>patient_id</th>\n",
              "      <th>cough_detected</th>\n",
              "      <th>cough_path</th>\n",
              "      <th>age</th>\n",
              "      <th>biological_sex</th>\n",
              "      <th>reported_gender</th>\n",
              "      <th>submission_date</th>\n",
              "      <th>pcr_test_date</th>\n",
              "      <th>pcr_result_date</th>\n",
              "      <th>respiratory_condition</th>\n",
              "      <th>fever_or_muscle_pain</th>\n",
              "      <th>pcr_test_result</th>\n",
              "      <th>pcr_test_result_inferred</th>\n",
              "      <th>covid_symptoms</th>\n",
              "    </tr>\n",
              "  </thead>\n",
              "  <tbody>\n",
              "    <tr>\n",
              "      <th>1</th>\n",
              "      <td>1</td>\n",
              "      <td>coughvid</td>\n",
              "      <td>f9c950cd-6d37-4598-bf31-bd47cdf1a720</td>\n",
              "      <td>0.8882</td>\n",
              "      <td>virufy-cdf-coughvid/f9c950cd-6d37-4598-bf31-bd...</td>\n",
              "      <td>35.0</td>\n",
              "      <td>male</td>\n",
              "      <td>male</td>\n",
              "      <td>2020-04-13T19:44:42.219149+00:00</td>\n",
              "      <td>NaN</td>\n",
              "      <td>NaN</td>\n",
              "      <td>False</td>\n",
              "      <td>False</td>\n",
              "      <td>untested</td>\n",
              "      <td>negative</td>\n",
              "      <td>False</td>\n",
              "    </tr>\n",
              "    <tr>\n",
              "      <th>3</th>\n",
              "      <td>3</td>\n",
              "      <td>coughvid</td>\n",
              "      <td>1284866a-8849-47f9-96bf-ffc2e1db9305</td>\n",
              "      <td>0.9599</td>\n",
              "      <td>virufy-cdf-coughvid/1284866a-8849-47f9-96bf-ff...</td>\n",
              "      <td>NaN</td>\n",
              "      <td>NaN</td>\n",
              "      <td>NaN</td>\n",
              "      <td>2020-04-15T18:04:29.010816+00:00</td>\n",
              "      <td>NaN</td>\n",
              "      <td>NaN</td>\n",
              "      <td>NaN</td>\n",
              "      <td>NaN</td>\n",
              "      <td>untested</td>\n",
              "      <td>untested</td>\n",
              "      <td>NaN</td>\n",
              "    </tr>\n",
              "    <tr>\n",
              "      <th>4</th>\n",
              "      <td>4</td>\n",
              "      <td>coughvid</td>\n",
              "      <td>d7d518f7-768c-4407-9706-3d59435f52cf</td>\n",
              "      <td>0.9869</td>\n",
              "      <td>virufy-cdf-coughvid/d7d518f7-768c-4407-9706-3d...</td>\n",
              "      <td>19.0</td>\n",
              "      <td>male</td>\n",
              "      <td>male</td>\n",
              "      <td>2020-05-29T12:52:05.866134+00:00</td>\n",
              "      <td>NaN</td>\n",
              "      <td>NaN</td>\n",
              "      <td>False</td>\n",
              "      <td>True</td>\n",
              "      <td>untested</td>\n",
              "      <td>negative</td>\n",
              "      <td>False</td>\n",
              "    </tr>\n",
              "    <tr>\n",
              "      <th>6</th>\n",
              "      <td>6</td>\n",
              "      <td>coughvid</td>\n",
              "      <td>8b1646d1-416d-4230-9015-2203dff0dd87</td>\n",
              "      <td>0.9963</td>\n",
              "      <td>virufy-cdf-coughvid/8b1646d1-416d-4230-9015-22...</td>\n",
              "      <td>28.0</td>\n",
              "      <td>male</td>\n",
              "      <td>male</td>\n",
              "      <td>2020-04-19T08:39:15.488719+00:00</td>\n",
              "      <td>NaN</td>\n",
              "      <td>NaN</td>\n",
              "      <td>False</td>\n",
              "      <td>False</td>\n",
              "      <td>untested</td>\n",
              "      <td>negative</td>\n",
              "      <td>False</td>\n",
              "    </tr>\n",
              "    <tr>\n",
              "      <th>7</th>\n",
              "      <td>7</td>\n",
              "      <td>coughvid</td>\n",
              "      <td>e61e9d35-7f7e-483d-ae80-63c2eaf5ee10</td>\n",
              "      <td>0.9708</td>\n",
              "      <td>virufy-cdf-coughvid/e61e9d35-7f7e-483d-ae80-63...</td>\n",
              "      <td>30.0</td>\n",
              "      <td>male</td>\n",
              "      <td>male</td>\n",
              "      <td>2020-04-19T02:08:55.341624+00:00</td>\n",
              "      <td>NaN</td>\n",
              "      <td>NaN</td>\n",
              "      <td>False</td>\n",
              "      <td>False</td>\n",
              "      <td>untested</td>\n",
              "      <td>negative</td>\n",
              "      <td>False</td>\n",
              "    </tr>\n",
              "  </tbody>\n",
              "</table>\n",
              "</div>"
            ],
            "text/plain": [
              "   Unnamed: 0    source  ... pcr_test_result_inferred  covid_symptoms\n",
              "1           1  coughvid  ...                 negative           False\n",
              "3           3  coughvid  ...                 untested             NaN\n",
              "4           4  coughvid  ...                 negative           False\n",
              "6           6  coughvid  ...                 negative           False\n",
              "7           7  coughvid  ...                 negative           False\n",
              "\n",
              "[5 rows x 16 columns]"
            ]
          },
          "metadata": {
            "tags": []
          },
          "execution_count": 2
        }
      ]
    },
    {
      "cell_type": "code",
      "metadata": {
        "colab": {
          "base_uri": "https://localhost:8080/"
        },
        "id": "ZZqZ2t6OMf5y",
        "outputId": "31a067ce-c3b7-4807-fa23-3de132ca5faf"
      },
      "source": [
        "# Disclaimer: we have inferred some of these pcr_test_result labels based on other columns\n",
        "# Target = pcr_test_result_inferred\n",
        "# Positive, negative, untested\n",
        "\n",
        "coughvid['pcr_test_result_inferred'].head(30)"
      ],
      "execution_count": 3,
      "outputs": [
        {
          "output_type": "execute_result",
          "data": {
            "text/plain": [
              "1     negative\n",
              "3     untested\n",
              "4     negative\n",
              "6     negative\n",
              "7     negative\n",
              "8     negative\n",
              "10    untested\n",
              "11    untested\n",
              "12    negative\n",
              "14    negative\n",
              "15    negative\n",
              "19    negative\n",
              "21    untested\n",
              "24    negative\n",
              "25    untested\n",
              "26    negative\n",
              "27    negative\n",
              "29    negative\n",
              "30    negative\n",
              "31    positive\n",
              "32    negative\n",
              "33    untested\n",
              "34    negative\n",
              "35    untested\n",
              "36    untested\n",
              "37    untested\n",
              "42    untested\n",
              "44    negative\n",
              "45    untested\n",
              "47    untested\n",
              "Name: pcr_test_result_inferred, dtype: object"
            ]
          },
          "metadata": {
            "tags": []
          },
          "execution_count": 3
        }
      ]
    },
    {
      "cell_type": "code",
      "metadata": {
        "id": "4Nuq3N9J4GJ0"
      },
      "source": [
        "# Filter out untested results\n",
        "msk = (coughvid.loc[:,'pcr_test_result_inferred']=='untested')\n",
        "coughvid = coughvid.loc[~msk,:]"
      ],
      "execution_count": 4,
      "outputs": []
    },
    {
      "cell_type": "code",
      "metadata": {
        "id": "hjer8iA7_EvO"
      },
      "source": [
        "# Test/Train split\n",
        "cdf_train, cdf_test = train_test_split(coughvid, test_size=0.2, random_state = 0)"
      ],
      "execution_count": 5,
      "outputs": []
    },
    {
      "cell_type": "code",
      "metadata": {
        "colab": {
          "base_uri": "https://localhost:8080/",
          "height": 35
        },
        "id": "gftHKA_--K-e",
        "outputId": "fc7aab50-0138-449e-edd4-83a35d6baa07"
      },
      "source": [
        "# Feel free to use all columns or to just focus on the audio file to predict the pcr_test_result_inferred test column\n",
        "'''\n",
        "  Your code here\n",
        "'''\n",
        "\n"
      ],
      "execution_count": 6,
      "outputs": [
        {
          "output_type": "execute_result",
          "data": {
            "application/vnd.google.colaboratory.intrinsic+json": {
              "type": "string"
            },
            "text/plain": [
              "'\\n  Your code here\\n'"
            ]
          },
          "metadata": {
            "tags": []
          },
          "execution_count": 6
        }
      ]
    },
    {
      "cell_type": "code",
      "metadata": {
        "id": "bq6uwOq1qImz"
      },
      "source": [
        "# Saving a model\n",
        "def save_model(your_model,savedir,name):\n",
        "\n",
        "  if '.' in name:\n",
        "    name = ''.join(name.split('.')[0])\n",
        "  \n",
        "  if not os.path.isdir(savedir):\n",
        "    os.mkdir(savedir)\n",
        "\n",
        "  Model_JSON = your_model.to_json()\n",
        "  with open(os.path.join(savedir,name+'.json'), \"w\") as json_file:\n",
        "      json_file.write(Model_JSON)\n",
        "  your_model.save_weights(os.path.join(savedir,name+'.h5'))"
      ],
      "execution_count": 7,
      "outputs": []
    }
  ]
}